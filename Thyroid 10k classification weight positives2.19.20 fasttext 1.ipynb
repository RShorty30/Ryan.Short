{
 "cells": [
  {
   "cell_type": "code",
   "execution_count": 1,
   "metadata": {},
   "outputs": [
    {
     "name": "stderr",
     "output_type": "stream",
     "text": [
      "Using TensorFlow backend.\n"
     ]
    }
   ],
   "source": [
    "import pandas as pd\n",
    "import numpy as np\n",
    "import keras\n",
    "import keras.backend as K\n",
    "from keras.layers import Dense, GlobalAveragePooling1D, Embedding\n",
    "from keras.callbacks import EarlyStopping\n",
    "from keras.models import Sequential\n",
    "from keras.preprocessing.sequence import pad_sequences\n",
    "from keras.preprocessing.text import Tokenizer\n",
    "from keras.utils import to_categorical\n",
    "\n",
    "from sklearn.model_selection import train_test_split"
   ]
  },
  {
   "cell_type": "code",
   "execution_count": 2,
   "metadata": {},
   "outputs": [],
   "source": [
    "#keras fast text method\n",
    "df = pd.read_csv('10k_bi.csv')\n",
    "df = df.iloc[:,0:2]"
   ]
  },
  {
   "cell_type": "code",
   "execution_count": 3,
   "metadata": {},
   "outputs": [
    {
     "data": {
      "text/html": [
       "<div>\n",
       "<style scoped>\n",
       "    .dataframe tbody tr th:only-of-type {\n",
       "        vertical-align: middle;\n",
       "    }\n",
       "\n",
       "    .dataframe tbody tr th {\n",
       "        vertical-align: top;\n",
       "    }\n",
       "\n",
       "    .dataframe thead th {\n",
       "        text-align: right;\n",
       "    }\n",
       "</style>\n",
       "<table border=\"1\" class=\"dataframe\">\n",
       "  <thead>\n",
       "    <tr style=\"text-align: right;\">\n",
       "      <th></th>\n",
       "      <th>sentence</th>\n",
       "      <th>class</th>\n",
       "    </tr>\n",
       "  </thead>\n",
       "  <tbody>\n",
       "    <tr>\n",
       "      <th>0</th>\n",
       "      <td>['the thyroid gland is unremarkable.']</td>\n",
       "      <td>0</td>\n",
       "    </tr>\n",
       "    <tr>\n",
       "      <th>1</th>\n",
       "      <td>['the thyroid gland and esophagus are unremark...</td>\n",
       "      <td>0</td>\n",
       "    </tr>\n",
       "    <tr>\n",
       "      <th>2</th>\n",
       "      <td>['the thyroid gland and esophagus are unremark...</td>\n",
       "      <td>0</td>\n",
       "    </tr>\n",
       "    <tr>\n",
       "      <th>3</th>\n",
       "      <td>['the thyroid gland is unremarkable.']</td>\n",
       "      <td>0</td>\n",
       "    </tr>\n",
       "    <tr>\n",
       "      <th>4</th>\n",
       "      <td>['findings: thyroid gland is normal.']</td>\n",
       "      <td>0</td>\n",
       "    </tr>\n",
       "    <tr>\n",
       "      <th>...</th>\n",
       "      <td>...</td>\n",
       "      <td>...</td>\n",
       "    </tr>\n",
       "    <tr>\n",
       "      <th>6573</th>\n",
       "      <td>['findings: the partially visualized thyroid i...</td>\n",
       "      <td>0</td>\n",
       "    </tr>\n",
       "    <tr>\n",
       "      <th>6574</th>\n",
       "      <td>['findings: the partially visualized thyroid i...</td>\n",
       "      <td>0</td>\n",
       "    </tr>\n",
       "    <tr>\n",
       "      <th>6575</th>\n",
       "      <td>['findings: mild asymmetric atrophy of the lef...</td>\n",
       "      <td>0</td>\n",
       "    </tr>\n",
       "    <tr>\n",
       "      <th>6576</th>\n",
       "      <td>['the thyroid is partially visualized and norm...</td>\n",
       "      <td>0</td>\n",
       "    </tr>\n",
       "    <tr>\n",
       "      <th>6577</th>\n",
       "      <td>['thyroid is normal.']</td>\n",
       "      <td>0</td>\n",
       "    </tr>\n",
       "  </tbody>\n",
       "</table>\n",
       "<p>6578 rows × 2 columns</p>\n",
       "</div>"
      ],
      "text/plain": [
       "                                               sentence  class\n",
       "0                ['the thyroid gland is unremarkable.']      0\n",
       "1     ['the thyroid gland and esophagus are unremark...      0\n",
       "2     ['the thyroid gland and esophagus are unremark...      0\n",
       "3                ['the thyroid gland is unremarkable.']      0\n",
       "4                ['findings: thyroid gland is normal.']      0\n",
       "...                                                 ...    ...\n",
       "6573  ['findings: the partially visualized thyroid i...      0\n",
       "6574  ['findings: the partially visualized thyroid i...      0\n",
       "6575  ['findings: mild asymmetric atrophy of the lef...      0\n",
       "6576  ['the thyroid is partially visualized and norm...      0\n",
       "6577                             ['thyroid is normal.']      0\n",
       "\n",
       "[6578 rows x 2 columns]"
      ]
     },
     "execution_count": 3,
     "metadata": {},
     "output_type": "execute_result"
    }
   ],
   "source": [
    "df.dropna()"
   ]
  },
  {
   "cell_type": "code",
   "execution_count": 4,
   "metadata": {},
   "outputs": [
    {
     "data": {
      "text/plain": [
       "0                   the thyroid gland is unremarkable.\n",
       "1    the thyroid gland and esophagus are unremarkable.\n",
       "2    the thyroid gland and esophagus are unremarkable.\n",
       "3                   the thyroid gland is unremarkable.\n",
       "4                   findings: thyroid gland is normal.\n",
       "Name: sentence, dtype: object"
      ]
     },
     "execution_count": 4,
     "metadata": {},
     "output_type": "execute_result"
    }
   ],
   "source": [
    "text2 = df.sentence.str.replace(\"\\[\", \"\")\n",
    "\n",
    "text3 = text2.str.replace(\"\\]\", \"\")\n",
    "text4 = text3.str.replace(\"'\", \"\")\n",
    "text4.head()"
   ]
  },
  {
   "cell_type": "code",
   "execution_count": 5,
   "metadata": {},
   "outputs": [],
   "source": [
    "df.sentence = text4"
   ]
  },
  {
   "cell_type": "code",
   "execution_count": 6,
   "metadata": {},
   "outputs": [
    {
     "data": {
      "text/html": [
       "<div>\n",
       "<style scoped>\n",
       "    .dataframe tbody tr th:only-of-type {\n",
       "        vertical-align: middle;\n",
       "    }\n",
       "\n",
       "    .dataframe tbody tr th {\n",
       "        vertical-align: top;\n",
       "    }\n",
       "\n",
       "    .dataframe thead th {\n",
       "        text-align: right;\n",
       "    }\n",
       "</style>\n",
       "<table border=\"1\" class=\"dataframe\">\n",
       "  <thead>\n",
       "    <tr style=\"text-align: right;\">\n",
       "      <th></th>\n",
       "      <th>sentence</th>\n",
       "      <th>class</th>\n",
       "    </tr>\n",
       "  </thead>\n",
       "  <tbody>\n",
       "    <tr>\n",
       "      <th>0</th>\n",
       "      <td>the thyroid gland is unremark</td>\n",
       "      <td>0</td>\n",
       "    </tr>\n",
       "  </tbody>\n",
       "</table>\n",
       "</div>"
      ],
      "text/plain": [
       "                         sentence  class\n",
       "0  the thyroid gland is unremark       0"
      ]
     },
     "execution_count": 6,
     "metadata": {},
     "output_type": "execute_result"
    }
   ],
   "source": [
    "#STEMMING WORDS\n",
    "import nltk.stem as stm\n",
    "import re\n",
    "stemmer = stm.SnowballStemmer(\"english\")\n",
    "df[\"sentence\"] = df.sentence.apply(lambda x: (\" \").join([stemmer.stem(z) for z in re.sub(\"[^a-zA-Z0-9]\",\" \", x).split(\" \")]))\n",
    "df.head(1)"
   ]
  },
  {
   "cell_type": "code",
   "execution_count": 7,
   "metadata": {},
   "outputs": [
    {
     "data": {
      "text/html": [
       "<div>\n",
       "<style scoped>\n",
       "    .dataframe tbody tr th:only-of-type {\n",
       "        vertical-align: middle;\n",
       "    }\n",
       "\n",
       "    .dataframe tbody tr th {\n",
       "        vertical-align: top;\n",
       "    }\n",
       "\n",
       "    .dataframe thead th {\n",
       "        text-align: right;\n",
       "    }\n",
       "</style>\n",
       "<table border=\"1\" class=\"dataframe\">\n",
       "  <thead>\n",
       "    <tr style=\"text-align: right;\">\n",
       "      <th></th>\n",
       "      <th>sentence</th>\n",
       "      <th>class</th>\n",
       "      <th>toks</th>\n",
       "    </tr>\n",
       "  </thead>\n",
       "  <tbody>\n",
       "    <tr>\n",
       "      <th>0</th>\n",
       "      <td>the thyroid gland is unremark</td>\n",
       "      <td>0</td>\n",
       "      <td>[3, 1, 8, 4, 6]</td>\n",
       "    </tr>\n",
       "    <tr>\n",
       "      <th>1</th>\n",
       "      <td>the thyroid gland and esophagus are unremark</td>\n",
       "      <td>0</td>\n",
       "      <td>[3, 1, 8, 12, 49, 14, 6]</td>\n",
       "    </tr>\n",
       "    <tr>\n",
       "      <th>2</th>\n",
       "      <td>the thyroid gland and esophagus are unremark</td>\n",
       "      <td>0</td>\n",
       "      <td>[3, 1, 8, 12, 49, 14, 6]</td>\n",
       "    </tr>\n",
       "    <tr>\n",
       "      <th>3</th>\n",
       "      <td>the thyroid gland is unremark</td>\n",
       "      <td>0</td>\n",
       "      <td>[3, 1, 8, 4, 6]</td>\n",
       "    </tr>\n",
       "    <tr>\n",
       "      <th>4</th>\n",
       "      <td>find  thyroid gland is normal</td>\n",
       "      <td>0</td>\n",
       "      <td>[2, 1, 8, 4, 5]</td>\n",
       "    </tr>\n",
       "  </tbody>\n",
       "</table>\n",
       "</div>"
      ],
      "text/plain": [
       "                                        sentence  class  \\\n",
       "0                 the thyroid gland is unremark       0   \n",
       "1  the thyroid gland and esophagus are unremark       0   \n",
       "2  the thyroid gland and esophagus are unremark       0   \n",
       "3                 the thyroid gland is unremark       0   \n",
       "4                 find  thyroid gland is normal       0   \n",
       "\n",
       "                       toks  \n",
       "0           [3, 1, 8, 4, 6]  \n",
       "1  [3, 1, 8, 12, 49, 14, 6]  \n",
       "2  [3, 1, 8, 12, 49, 14, 6]  \n",
       "3           [3, 1, 8, 4, 6]  \n",
       "4           [2, 1, 8, 4, 5]  "
      ]
     },
     "execution_count": 7,
     "metadata": {},
     "output_type": "execute_result"
    }
   ],
   "source": [
    "#PROCESS TEXT: RAW\n",
    "#filters = '!\"#$%&*+/:;<=>?@[\\]^_`{|}~\\t\\n' if use char level true\n",
    "from keras.preprocessing.text import Tokenizer\n",
    "\n",
    "tok_raw = Tokenizer(char_level = False)\n",
    "tok_raw.fit_on_texts(df.sentence.str.lower())\n",
    "tok_stem = Tokenizer(char_level = False)\n",
    "tok_stem.fit_on_texts(df.sentence)\n",
    "df['toks'] = tok_stem.texts_to_sequences(df.sentence)\n",
    "df.head()"
   ]
  },
  {
   "cell_type": "code",
   "execution_count": 8,
   "metadata": {},
   "outputs": [],
   "source": [
    "X_train, X_test, y_train, y_test = train_test_split(df.toks,\n",
    "                                                    pd.get_dummies(df['class'], drop_first=False),\n",
    "                                                    test_size=0.2,\n",
    "                                                    stratify= df['class'],\n",
    "                                                    random_state=42)"
   ]
  },
  {
   "cell_type": "code",
   "execution_count": 9,
   "metadata": {},
   "outputs": [],
   "source": [
    "X_train, X_val, y_train, y_val = train_test_split(X_train,\n",
    "                                                    y_train,\n",
    "                                                    test_size=0.25,\n",
    "                                                    stratify= y_train,\n",
    "                                                    random_state=42)"
   ]
  },
  {
   "cell_type": "code",
   "execution_count": 10,
   "metadata": {},
   "outputs": [],
   "source": [
    "y_train = y_train.values\n",
    "y_test = y_test.values\n",
    "y_val = y_val.values"
   ]
  },
  {
   "cell_type": "code",
   "execution_count": 11,
   "metadata": {},
   "outputs": [
    {
     "data": {
      "text/plain": [
       "1261"
      ]
     },
     "execution_count": 11,
     "metadata": {},
     "output_type": "execute_result"
    }
   ],
   "source": [
    "long = []\n",
    "for row in X_val:\n",
    "    long.append(np.max(row))\n",
    "np.max(long)"
   ]
  },
  {
   "cell_type": "code",
   "execution_count": 12,
   "metadata": {},
   "outputs": [
    {
     "data": {
      "text/plain": [
       "1268"
      ]
     },
     "execution_count": 12,
     "metadata": {},
     "output_type": "execute_result"
    }
   ],
   "source": [
    "long = []\n",
    "for row in X_test:\n",
    "    long.append(np.max(row))\n",
    "np.max(long)"
   ]
  },
  {
   "cell_type": "code",
   "execution_count": 13,
   "metadata": {},
   "outputs": [
    {
     "data": {
      "text/plain": [
       "1273"
      ]
     },
     "execution_count": 13,
     "metadata": {},
     "output_type": "execute_result"
    }
   ],
   "source": [
    "long = []\n",
    "for row in X_train:\n",
    "    long.append(np.max(row))\n",
    "np.max(long)"
   ]
  },
  {
   "cell_type": "code",
   "execution_count": 14,
   "metadata": {},
   "outputs": [],
   "source": [
    "n_stem_seq = 1274"
   ]
  },
  {
   "cell_type": "code",
   "execution_count": 15,
   "metadata": {},
   "outputs": [
    {
     "data": {
      "text/plain": [
       "152"
      ]
     },
     "execution_count": 15,
     "metadata": {},
     "output_type": "execute_result"
    }
   ],
   "source": [
    "long = []\n",
    "for row in X_val:\n",
    "    long.append(len(row))\n",
    "np.max(long)"
   ]
  },
  {
   "cell_type": "code",
   "execution_count": 16,
   "metadata": {},
   "outputs": [
    {
     "data": {
      "text/plain": [
       "151"
      ]
     },
     "execution_count": 16,
     "metadata": {},
     "output_type": "execute_result"
    }
   ],
   "source": [
    "long = []\n",
    "for row in X_train:\n",
    "    long.append(len(row))\n",
    "np.max(long)"
   ]
  },
  {
   "cell_type": "code",
   "execution_count": 17,
   "metadata": {},
   "outputs": [
    {
     "data": {
      "text/plain": [
       "118"
      ]
     },
     "execution_count": 17,
     "metadata": {},
     "output_type": "execute_result"
    }
   ],
   "source": [
    "long = []\n",
    "for row in X_test:\n",
    "    long.append(len(row))\n",
    "np.max(long)"
   ]
  },
  {
   "cell_type": "code",
   "execution_count": 18,
   "metadata": {},
   "outputs": [],
   "source": [
    "maxlen = 152\n",
    "from keras.preprocessing.sequence import pad_sequences\n",
    "\n",
    "\n",
    "X_train = pad_sequences(X_train, maxlen, truncating = 'post')\n",
    "X_val = pad_sequences (X_val, maxlen, truncating = 'post')\n",
    "X_test = pad_sequences(X_test, maxlen, truncating = 'post')"
   ]
  },
  {
   "cell_type": "code",
   "execution_count": 19,
   "metadata": {},
   "outputs": [
    {
     "name": "stdout",
     "output_type": "stream",
     "text": [
      "Model: \"model_1\"\n",
      "_________________________________________________________________\n",
      "Layer (type)                 Output Shape              Param #   \n",
      "=================================================================\n",
      "stem_input (InputLayer)      (None, 152)               0         \n",
      "_________________________________________________________________\n",
      "embedding_1 (Embedding)      (None, 152, 200)          254800    \n",
      "_________________________________________________________________\n",
      "global_average_pooling1d_1 ( (None, 200)               0         \n",
      "_________________________________________________________________\n",
      "dense_1 (Dense)              (None, 2)                 402       \n",
      "=================================================================\n",
      "Total params: 255,202\n",
      "Trainable params: 255,202\n",
      "Non-trainable params: 0\n",
      "_________________________________________________________________\n"
     ]
    }
   ],
   "source": [
    "#KERAS MODEL DEFINITION\n",
    "import tensorflow as tf\n",
    "from keras.layers import Dense, Dropout, Embedding\n",
    "from keras.layers import Input, GlobalAveragePooling1D\n",
    "from keras.models import Model\n",
    "from keras.optimizers import Adam \n",
    "from keras.regularizers import l1_l2\n",
    "\n",
    "def get_model():\n",
    "    embed_dim = 200\n",
    "       \n",
    "    input_text = Input(shape=[maxlen], name=\"stem_input\")\n",
    "    \n",
    "    emb = (Embedding(n_stem_seq, embed_dim,input_length = maxlen))(input_text)\n",
    "    \n",
    "    pool = GlobalAveragePooling1D()(emb)\n",
    "    \n",
    "    output = Dense(2, activation=\"softmax\")(pool)\n",
    "\n",
    "    model = Model([input_text], output)\n",
    "\n",
    "    optimizer = Adam(lr=0.001, beta_1=0.9, beta_2=0.999, epsilon=1e-08, decay=0.0)\n",
    "    model.compile(loss=\"binary_crossentropy\", optimizer=optimizer, metrics=['accuracy'])\n",
    "    return model\n",
    "\n",
    "model = get_model()\n",
    "model.summary()"
   ]
  },
  {
   "cell_type": "code",
   "execution_count": 21,
   "metadata": {},
   "outputs": [
    {
     "name": "stderr",
     "output_type": "stream",
     "text": [
      "C:\\wustl\\envs\\tf-gpu\\lib\\site-packages\\tensorflow_core\\python\\framework\\indexed_slices.py:424: UserWarning: Converting sparse IndexedSlices to a dense Tensor of unknown shape. This may consume a large amount of memory.\n",
      "  \"Converting sparse IndexedSlices to a dense Tensor of unknown shape. \"\n"
     ]
    },
    {
     "name": "stdout",
     "output_type": "stream",
     "text": [
      "Train on 3946 samples, validate on 1316 samples\n",
      "Epoch 1/300\n",
      "3946/3946 [==============================] - 1s 302us/step - loss: 1.1711 - accuracy: 0.0291 - val_loss: 1.2804 - val_accuracy: 0.0289\n",
      "\n",
      "Epoch 00001: val_loss improved from inf to 1.28036, saving model to fasttext10kbinaryweighted2.19.20.h5\n",
      "Epoch 2/300\n",
      "3946/3946 [==============================] - 0s 89us/step - loss: 1.0642 - accuracy: 0.0291 - val_loss: 1.1386 - val_accuracy: 0.0289\n",
      "\n",
      "Epoch 00002: val_loss improved from 1.28036 to 1.13856, saving model to fasttext10kbinaryweighted2.19.20.h5\n",
      "Epoch 3/300\n",
      "3946/3946 [==============================] - 0s 88us/step - loss: 0.9566 - accuracy: 0.0291 - val_loss: 0.9909 - val_accuracy: 0.0289\n",
      "\n",
      "Epoch 00003: val_loss improved from 1.13856 to 0.99086, saving model to fasttext10kbinaryweighted2.19.20.h5\n",
      "Epoch 4/300\n",
      "3946/3946 [==============================] - 0s 88us/step - loss: 0.8021 - accuracy: 0.0413 - val_loss: 0.8109 - val_accuracy: 0.0760\n",
      "\n",
      "Epoch 00004: val_loss improved from 0.99086 to 0.81092, saving model to fasttext10kbinaryweighted2.19.20.h5\n",
      "Epoch 5/300\n",
      "3946/3946 [==============================] - 0s 88us/step - loss: 0.6493 - accuracy: 0.4232 - val_loss: 0.5211 - val_accuracy: 0.9050\n",
      "\n",
      "Epoch 00005: val_loss improved from 0.81092 to 0.52111, saving model to fasttext10kbinaryweighted2.19.20.h5\n",
      "Epoch 6/300\n",
      "3946/3946 [==============================] - 0s 87us/step - loss: 0.5344 - accuracy: 0.8806 - val_loss: 0.4712 - val_accuracy: 0.9065\n",
      "\n",
      "Epoch 00006: val_loss improved from 0.52111 to 0.47116, saving model to fasttext10kbinaryweighted2.19.20.h5\n",
      "Epoch 7/300\n",
      "3946/3946 [==============================] - 0s 87us/step - loss: 0.4427 - accuracy: 0.9078 - val_loss: 0.4514 - val_accuracy: 0.8989\n",
      "\n",
      "Epoch 00007: val_loss improved from 0.47116 to 0.45139, saving model to fasttext10kbinaryweighted2.19.20.h5\n",
      "Epoch 8/300\n",
      "3946/3946 [==============================] - 0s 87us/step - loss: 0.3781 - accuracy: 0.9116 - val_loss: 0.4165 - val_accuracy: 0.9043\n",
      "\n",
      "Epoch 00008: val_loss improved from 0.45139 to 0.41649, saving model to fasttext10kbinaryweighted2.19.20.h5\n",
      "Epoch 9/300\n",
      "3946/3946 [==============================] - 0s 90us/step - loss: 0.3321 - accuracy: 0.9154 - val_loss: 0.3219 - val_accuracy: 0.9286\n",
      "\n",
      "Epoch 00009: val_loss improved from 0.41649 to 0.32188, saving model to fasttext10kbinaryweighted2.19.20.h5\n",
      "Epoch 10/300\n",
      "3946/3946 [==============================] - 0s 88us/step - loss: 0.2958 - accuracy: 0.9288 - val_loss: 0.3280 - val_accuracy: 0.9210\n",
      "\n",
      "Epoch 00010: val_loss did not improve from 0.32188\n",
      "Epoch 11/300\n",
      "3946/3946 [==============================] - 0s 90us/step - loss: 0.2614 - accuracy: 0.9240 - val_loss: 0.2965 - val_accuracy: 0.9248\n",
      "\n",
      "Epoch 00011: val_loss improved from 0.32188 to 0.29652, saving model to fasttext10kbinaryweighted2.19.20.h5\n",
      "Epoch 12/300\n",
      "3946/3946 [==============================] - 0s 92us/step - loss: 0.2356 - accuracy: 0.9275 - val_loss: 0.2257 - val_accuracy: 0.9369\n",
      "\n",
      "Epoch 00012: val_loss improved from 0.29652 to 0.22570, saving model to fasttext10kbinaryweighted2.19.20.h5\n",
      "Epoch 13/300\n",
      "3946/3946 [==============================] - 0s 93us/step - loss: 0.2159 - accuracy: 0.9265 - val_loss: 0.1656 - val_accuracy: 0.9552\n",
      "\n",
      "Epoch 00013: val_loss improved from 0.22570 to 0.16562, saving model to fasttext10kbinaryweighted2.19.20.h5\n",
      "Epoch 14/300\n",
      "3946/3946 [==============================] - 0s 91us/step - loss: 0.2084 - accuracy: 0.9374 - val_loss: 0.1811 - val_accuracy: 0.9468\n",
      "\n",
      "Epoch 00014: val_loss did not improve from 0.16562\n",
      "Epoch 15/300\n",
      "3946/3946 [==============================] - 0s 93us/step - loss: 0.1890 - accuracy: 0.9298 - val_loss: 0.1747 - val_accuracy: 0.9468\n",
      "\n",
      "Epoch 00015: val_loss did not improve from 0.16562\n",
      "Epoch 16/300\n",
      "3946/3946 [==============================] - 0s 90us/step - loss: 0.1727 - accuracy: 0.9450 - val_loss: 0.2573 - val_accuracy: 0.9195\n",
      "\n",
      "Epoch 00016: val_loss did not improve from 0.16562\n",
      "Epoch 17/300\n",
      "3946/3946 [==============================] - 0s 97us/step - loss: 0.1637 - accuracy: 0.9389 - val_loss: 0.2021 - val_accuracy: 0.9362\n",
      "\n",
      "Epoch 00017: val_loss did not improve from 0.16562\n",
      "Epoch 18/300\n",
      "3946/3946 [==============================] - 0s 86us/step - loss: 0.1515 - accuracy: 0.9382 - val_loss: 0.1922 - val_accuracy: 0.9362\n",
      "\n",
      "Epoch 00018: val_loss did not improve from 0.16562\n",
      "Epoch 19/300\n",
      "3946/3946 [==============================] - 0s 93us/step - loss: 0.1438 - accuracy: 0.9407 - val_loss: 0.1747 - val_accuracy: 0.9445\n",
      "\n",
      "Epoch 00019: val_loss did not improve from 0.16562\n",
      "Epoch 20/300\n",
      "3946/3946 [==============================] - 0s 86us/step - loss: 0.1355 - accuracy: 0.9488 - val_loss: 0.1624 - val_accuracy: 0.9506\n",
      "\n",
      "Epoch 00020: val_loss improved from 0.16562 to 0.16241, saving model to fasttext10kbinaryweighted2.19.20.h5\n",
      "Epoch 21/300\n",
      "3946/3946 [==============================] - 0s 85us/step - loss: 0.1264 - accuracy: 0.9511 - val_loss: 0.1692 - val_accuracy: 0.9468\n",
      "\n",
      "Epoch 00021: val_loss did not improve from 0.16241\n",
      "Epoch 22/300\n",
      "3946/3946 [==============================] - 0s 85us/step - loss: 0.1213 - accuracy: 0.9503 - val_loss: 0.1644 - val_accuracy: 0.9483\n",
      "\n",
      "Epoch 00022: val_loss did not improve from 0.16241\n",
      "Epoch 23/300\n",
      "3946/3946 [==============================] - 0s 86us/step - loss: 0.1167 - accuracy: 0.9544 - val_loss: 0.1401 - val_accuracy: 0.9559\n",
      "\n",
      "Epoch 00023: val_loss improved from 0.16241 to 0.14010, saving model to fasttext10kbinaryweighted2.19.20.h5\n",
      "Epoch 24/300\n",
      "3946/3946 [==============================] - 0s 85us/step - loss: 0.1101 - accuracy: 0.9503 - val_loss: 0.1183 - val_accuracy: 0.9628\n",
      "\n",
      "Epoch 00024: val_loss improved from 0.14010 to 0.11828, saving model to fasttext10kbinaryweighted2.19.20.h5\n",
      "Epoch 25/300\n",
      "3946/3946 [==============================] - 0s 84us/step - loss: 0.1047 - accuracy: 0.9597 - val_loss: 0.1582 - val_accuracy: 0.9476\n",
      "\n",
      "Epoch 00025: val_loss did not improve from 0.11828\n",
      "Epoch 26/300\n",
      "3946/3946 [==============================] - 0s 90us/step - loss: 0.1027 - accuracy: 0.9562 - val_loss: 0.1312 - val_accuracy: 0.9552\n",
      "\n",
      "Epoch 00026: val_loss did not improve from 0.11828\n",
      "Epoch 27/300\n",
      "3946/3946 [==============================] - 0s 89us/step - loss: 0.0965 - accuracy: 0.9617 - val_loss: 0.1226 - val_accuracy: 0.9612\n",
      "\n",
      "Epoch 00027: val_loss did not improve from 0.11828\n",
      "Epoch 28/300\n",
      "3946/3946 [==============================] - 0s 87us/step - loss: 0.0933 - accuracy: 0.9612 - val_loss: 0.1226 - val_accuracy: 0.9612\n",
      "\n",
      "Epoch 00028: val_loss did not improve from 0.11828\n",
      "Epoch 29/300\n",
      "3946/3946 [==============================] - 0s 85us/step - loss: 0.0904 - accuracy: 0.9650 - val_loss: 0.1332 - val_accuracy: 0.9536\n",
      "\n",
      "Epoch 00029: val_loss did not improve from 0.11828\n",
      "Epoch 30/300\n",
      "3946/3946 [==============================] - 0s 85us/step - loss: 0.0870 - accuracy: 0.9615 - val_loss: 0.0992 - val_accuracy: 0.9650\n",
      "\n",
      "Epoch 00030: val_loss improved from 0.11828 to 0.09917, saving model to fasttext10kbinaryweighted2.19.20.h5\n",
      "Epoch 31/300\n",
      "3946/3946 [==============================] - 0s 86us/step - loss: 0.0849 - accuracy: 0.9615 - val_loss: 0.0998 - val_accuracy: 0.9658\n",
      "\n",
      "Epoch 00031: val_loss did not improve from 0.09917\n",
      "Epoch 32/300\n",
      "3946/3946 [==============================] - 0s 86us/step - loss: 0.0807 - accuracy: 0.9660 - val_loss: 0.1032 - val_accuracy: 0.9658\n",
      "\n",
      "Epoch 00032: val_loss did not improve from 0.09917\n",
      "Epoch 33/300\n",
      "3946/3946 [==============================] - 0s 89us/step - loss: 0.0781 - accuracy: 0.9673 - val_loss: 0.1140 - val_accuracy: 0.9620\n",
      "\n",
      "Epoch 00033: val_loss did not improve from 0.09917\n",
      "Epoch 34/300\n",
      "3946/3946 [==============================] - 0s 90us/step - loss: 0.0764 - accuracy: 0.9665 - val_loss: 0.1056 - val_accuracy: 0.9658\n",
      "\n",
      "Epoch 00034: val_loss did not improve from 0.09917\n",
      "Epoch 35/300\n",
      "3946/3946 [==============================] - 0s 85us/step - loss: 0.0752 - accuracy: 0.9668 - val_loss: 0.1133 - val_accuracy: 0.9612\n",
      "\n",
      "Epoch 00035: val_loss did not improve from 0.09917\n",
      "Epoch 36/300\n",
      "3946/3946 [==============================] - 0s 86us/step - loss: 0.0717 - accuracy: 0.9678 - val_loss: 0.0915 - val_accuracy: 0.9681\n",
      "\n",
      "Epoch 00036: val_loss improved from 0.09917 to 0.09154, saving model to fasttext10kbinaryweighted2.19.20.h5\n",
      "Epoch 37/300\n",
      "3946/3946 [==============================] - 0s 89us/step - loss: 0.0705 - accuracy: 0.9696 - val_loss: 0.0950 - val_accuracy: 0.9688\n",
      "\n",
      "Epoch 00037: val_loss did not improve from 0.09154\n",
      "Epoch 38/300\n",
      "3946/3946 [==============================] - 0s 85us/step - loss: 0.0680 - accuracy: 0.9686 - val_loss: 0.0786 - val_accuracy: 0.9742\n",
      "\n",
      "Epoch 00038: val_loss improved from 0.09154 to 0.07857, saving model to fasttext10kbinaryweighted2.19.20.h5\n",
      "Epoch 39/300\n",
      "3946/3946 [==============================] - 0s 87us/step - loss: 0.0681 - accuracy: 0.9701 - val_loss: 0.0901 - val_accuracy: 0.9696\n",
      "\n",
      "Epoch 00039: val_loss did not improve from 0.07857\n",
      "Epoch 40/300\n",
      "3946/3946 [==============================] - 0s 85us/step - loss: 0.0657 - accuracy: 0.9709 - val_loss: 0.0909 - val_accuracy: 0.9696\n",
      "\n",
      "Epoch 00040: val_loss did not improve from 0.07857\n",
      "Epoch 41/300\n",
      "3946/3946 [==============================] - 0s 84us/step - loss: 0.0631 - accuracy: 0.9726 - val_loss: 0.0983 - val_accuracy: 0.9696\n",
      "\n",
      "Epoch 00041: val_loss did not improve from 0.07857\n",
      "Epoch 42/300\n",
      "3946/3946 [==============================] - 0s 86us/step - loss: 0.0626 - accuracy: 0.9716 - val_loss: 0.0811 - val_accuracy: 0.9749\n",
      "\n",
      "Epoch 00042: val_loss did not improve from 0.07857\n",
      "Epoch 43/300\n",
      "3946/3946 [==============================] - 0s 86us/step - loss: 0.0608 - accuracy: 0.9734 - val_loss: 0.0840 - val_accuracy: 0.9742\n",
      "\n",
      "Epoch 00043: val_loss did not improve from 0.07857\n",
      "Epoch 44/300\n",
      "3946/3946 [==============================] - 0s 88us/step - loss: 0.0603 - accuracy: 0.9739 - val_loss: 0.0925 - val_accuracy: 0.9704\n",
      "\n",
      "Epoch 00044: val_loss did not improve from 0.07857\n",
      "Epoch 45/300\n",
      "3946/3946 [==============================] - 0s 88us/step - loss: 0.0586 - accuracy: 0.9742 - val_loss: 0.0918 - val_accuracy: 0.9711\n",
      "\n",
      "Epoch 00045: val_loss did not improve from 0.07857\n",
      "Epoch 46/300\n",
      "3946/3946 [==============================] - 0s 87us/step - loss: 0.0574 - accuracy: 0.9754 - val_loss: 0.0810 - val_accuracy: 0.9757\n",
      "\n",
      "Epoch 00046: val_loss did not improve from 0.07857\n",
      "Epoch 47/300\n",
      "3946/3946 [==============================] - 0s 87us/step - loss: 0.0551 - accuracy: 0.9752 - val_loss: 0.0642 - val_accuracy: 0.9818\n",
      "\n",
      "Epoch 00047: val_loss improved from 0.07857 to 0.06419, saving model to fasttext10kbinaryweighted2.19.20.h5\n",
      "Epoch 48/300\n",
      "3946/3946 [==============================] - 0s 86us/step - loss: 0.0578 - accuracy: 0.9734 - val_loss: 0.0651 - val_accuracy: 0.9810\n",
      "\n",
      "Epoch 00048: val_loss did not improve from 0.06419\n",
      "Epoch 49/300\n",
      "3946/3946 [==============================] - 0s 88us/step - loss: 0.0559 - accuracy: 0.9744 - val_loss: 0.0732 - val_accuracy: 0.9757\n",
      "\n",
      "Epoch 00049: val_loss did not improve from 0.06419\n",
      "Epoch 50/300\n",
      "3946/3946 [==============================] - 0s 87us/step - loss: 0.0526 - accuracy: 0.9767 - val_loss: 0.0680 - val_accuracy: 0.9787\n",
      "\n",
      "Epoch 00050: val_loss did not improve from 0.06419\n",
      "Epoch 51/300\n",
      "3946/3946 [==============================] - 0s 87us/step - loss: 0.0538 - accuracy: 0.9769 - val_loss: 0.0689 - val_accuracy: 0.9787\n",
      "\n",
      "Epoch 00051: val_loss did not improve from 0.06419\n",
      "Epoch 52/300\n",
      "3946/3946 [==============================] - 0s 88us/step - loss: 0.0514 - accuracy: 0.9774 - val_loss: 0.0631 - val_accuracy: 0.9833\n",
      "\n",
      "Epoch 00052: val_loss improved from 0.06419 to 0.06306, saving model to fasttext10kbinaryweighted2.19.20.h5\n",
      "Epoch 53/300\n",
      "3946/3946 [==============================] - 0s 86us/step - loss: 0.0497 - accuracy: 0.9782 - val_loss: 0.0833 - val_accuracy: 0.9749\n",
      "\n",
      "Epoch 00053: val_loss did not improve from 0.06306\n",
      "Epoch 54/300\n",
      "3946/3946 [==============================] - 0s 88us/step - loss: 0.0479 - accuracy: 0.9774 - val_loss: 0.0656 - val_accuracy: 0.9818\n",
      "\n",
      "Epoch 00054: val_loss did not improve from 0.06306\n",
      "Epoch 55/300\n",
      "3946/3946 [==============================] - 0s 86us/step - loss: 0.0489 - accuracy: 0.9780 - val_loss: 0.0677 - val_accuracy: 0.9818\n",
      "\n",
      "Epoch 00055: val_loss did not improve from 0.06306\n",
      "Epoch 56/300\n",
      "3946/3946 [==============================] - 0s 84us/step - loss: 0.0470 - accuracy: 0.9787 - val_loss: 0.0692 - val_accuracy: 0.9802\n",
      "\n",
      "Epoch 00056: val_loss did not improve from 0.06306\n",
      "Epoch 57/300\n",
      "3946/3946 [==============================] - 0s 85us/step - loss: 0.0462 - accuracy: 0.9800 - val_loss: 0.0812 - val_accuracy: 0.9749\n",
      "\n",
      "Epoch 00057: val_loss did not improve from 0.06306\n",
      "Epoch 58/300\n",
      "3946/3946 [==============================] - 0s 87us/step - loss: 0.0455 - accuracy: 0.9795 - val_loss: 0.0760 - val_accuracy: 0.9764\n",
      "\n",
      "Epoch 00058: val_loss did not improve from 0.06306\n",
      "Epoch 59/300\n",
      "3946/3946 [==============================] - 0s 89us/step - loss: 0.0444 - accuracy: 0.9795 - val_loss: 0.0718 - val_accuracy: 0.9802\n",
      "\n",
      "Epoch 00059: val_loss did not improve from 0.06306\n",
      "Epoch 60/300\n",
      "3946/3946 [==============================] - 0s 86us/step - loss: 0.0439 - accuracy: 0.9805 - val_loss: 0.0783 - val_accuracy: 0.9757\n",
      "\n",
      "Epoch 00060: val_loss did not improve from 0.06306\n",
      "Epoch 61/300\n",
      "3946/3946 [==============================] - 0s 83us/step - loss: 0.0435 - accuracy: 0.9800 - val_loss: 0.0776 - val_accuracy: 0.9772\n",
      "\n",
      "Epoch 00061: val_loss did not improve from 0.06306\n",
      "Epoch 62/300\n",
      "3946/3946 [==============================] - 0s 83us/step - loss: 0.0422 - accuracy: 0.9795 - val_loss: 0.0625 - val_accuracy: 0.9856\n",
      "\n",
      "Epoch 00062: val_loss improved from 0.06306 to 0.06249, saving model to fasttext10kbinaryweighted2.19.20.h5\n",
      "Epoch 63/300\n",
      "3946/3946 [==============================] - 0s 84us/step - loss: 0.0424 - accuracy: 0.9802 - val_loss: 0.0654 - val_accuracy: 0.9856\n",
      "\n",
      "Epoch 00063: val_loss did not improve from 0.06249\n",
      "Epoch 64/300\n",
      "3946/3946 [==============================] - 0s 83us/step - loss: 0.0430 - accuracy: 0.9802 - val_loss: 0.0636 - val_accuracy: 0.9856\n",
      "\n",
      "Epoch 00064: val_loss did not improve from 0.06249\n",
      "Epoch 65/300\n",
      "3946/3946 [==============================] - 0s 84us/step - loss: 0.0397 - accuracy: 0.9810 - val_loss: 0.0648 - val_accuracy: 0.9856\n",
      "\n",
      "Epoch 00065: val_loss did not improve from 0.06249\n",
      "Epoch 66/300\n",
      "3946/3946 [==============================] - 0s 82us/step - loss: 0.0398 - accuracy: 0.9820 - val_loss: 0.0646 - val_accuracy: 0.9856\n",
      "\n",
      "Epoch 00066: val_loss did not improve from 0.06249\n",
      "Epoch 67/300\n",
      "3946/3946 [==============================] - 0s 83us/step - loss: 0.0383 - accuracy: 0.9812 - val_loss: 0.0720 - val_accuracy: 0.9810\n",
      "\n",
      "Epoch 00067: val_loss did not improve from 0.06249\n",
      "Epoch 68/300\n",
      "3946/3946 [==============================] - 0s 83us/step - loss: 0.0386 - accuracy: 0.9815 - val_loss: 0.0648 - val_accuracy: 0.9856\n",
      "\n",
      "Epoch 00068: val_loss did not improve from 0.06249\n",
      "Epoch 69/300\n",
      "3946/3946 [==============================] - 0s 87us/step - loss: 0.0370 - accuracy: 0.9838 - val_loss: 0.0776 - val_accuracy: 0.9795\n",
      "\n",
      "Epoch 00069: val_loss did not improve from 0.06249\n",
      "Epoch 70/300\n",
      "3946/3946 [==============================] - 0s 85us/step - loss: 0.0367 - accuracy: 0.9830 - val_loss: 0.0773 - val_accuracy: 0.9795\n",
      "\n",
      "Epoch 00070: val_loss did not improve from 0.06249\n",
      "Epoch 71/300\n",
      "3946/3946 [==============================] - 0s 85us/step - loss: 0.0362 - accuracy: 0.9828 - val_loss: 0.0657 - val_accuracy: 0.9856\n",
      "\n",
      "Epoch 00071: val_loss did not improve from 0.06249\n",
      "Epoch 72/300\n",
      "3946/3946 [==============================] - 0s 87us/step - loss: 0.0360 - accuracy: 0.9840 - val_loss: 0.0673 - val_accuracy: 0.9856\n",
      "\n",
      "Epoch 00072: val_loss did not improve from 0.06249\n"
     ]
    }
   ],
   "source": [
    "from keras.callbacks import ModelCheckpoint\n",
    "class_weight = {0:0.5 , 1:50 }\n",
    "filepath = 'fasttext10kbinaryweighted2.19.20.h5'\n",
    "checkpoint = ModelCheckpoint(filepath, monitor='val_loss', verbose = 1, save_best_only = True)\n",
    "epochs = 300\n",
    "hist = model.fit(X_train, y_train,\n",
    "                 batch_size=64,\n",
    "                 validation_data=(X_val, y_val),\n",
    "                 epochs=epochs,\n",
    "                 class_weight=class_weight,\n",
    "                 callbacks=[EarlyStopping(patience=10, monitor='val_loss'), checkpoint])"
   ]
  },
  {
   "cell_type": "code",
   "execution_count": 22,
   "metadata": {},
   "outputs": [],
   "source": [
    "from keras.models import load_model\n",
    "model = load_model(filepath)\n",
    "test_pred = model.predict(X_test, batch_size=64)"
   ]
  },
  {
   "cell_type": "code",
   "execution_count": 23,
   "metadata": {},
   "outputs": [],
   "source": [
    "test_pred2 = test_pred.argmax(1)\n",
    "y_test2 = y_test.argmax(1)"
   ]
  },
  {
   "cell_type": "code",
   "execution_count": 24,
   "metadata": {},
   "outputs": [
    {
     "data": {
      "text/plain": [
       "0.6415094339622641"
      ]
     },
     "execution_count": 24,
     "metadata": {},
     "output_type": "execute_result"
    }
   ],
   "source": [
    "from sklearn.metrics import precision_score\n",
    "precision_score(y_test2, test_pred2)"
   ]
  },
  {
   "cell_type": "code",
   "execution_count": 25,
   "metadata": {},
   "outputs": [
    {
     "data": {
      "text/plain": [
       "(0.8191711857063894, 0.9399349312247756, 0.8691005963733236, None)"
      ]
     },
     "execution_count": 25,
     "metadata": {},
     "output_type": "execute_result"
    }
   ],
   "source": [
    "from sklearn.metrics import precision_recall_fscore_support\n",
    "precision_recall_fscore_support(y_test2, test_pred2, average = 'macro')"
   ]
  },
  {
   "cell_type": "code",
   "execution_count": 26,
   "metadata": {},
   "outputs": [
    {
     "data": {
      "text/plain": [
       "0.9825227963525835"
      ]
     },
     "execution_count": 26,
     "metadata": {},
     "output_type": "execute_result"
    }
   ],
   "source": [
    "from sklearn.metrics import accuracy_score\n",
    "accuracy_score(y_test2, test_pred2)"
   ]
  },
  {
   "cell_type": "code",
   "execution_count": 27,
   "metadata": {},
   "outputs": [
    {
     "data": {
      "text/plain": [
       "0.9399349312247757"
      ]
     },
     "execution_count": 27,
     "metadata": {},
     "output_type": "execute_result"
    }
   ],
   "source": [
    "from sklearn.metrics import roc_auc_score\n",
    "roc_auc_score(y_test2, test_pred2, average= 'macro')"
   ]
  },
  {
   "cell_type": "code",
   "execution_count": 30,
   "metadata": {},
   "outputs": [],
   "source": [
    "from sklearn import metrics\n",
    "tn, fp, fn, tp = metrics.confusion_matrix(y_test2, test_pred2).ravel()\n"
   ]
  },
  {
   "cell_type": "code",
   "execution_count": 31,
   "metadata": {},
   "outputs": [
    {
     "name": "stdout",
     "output_type": "stream",
     "text": [
      "True Negative:  1259\n",
      "False Positive:  19\n",
      "False Negative:  4\n",
      "True Positive:  34\n",
      "Accuracy:  0.9825227963525835\n",
      "Precision/PPV:  0.6415094339622641\n",
      "Sensitivity/Recall:  0.8947368421052632\n"
     ]
    }
   ],
   "source": [
    "print('True Negative: ', tn)\n",
    "print('False Positive: ', fp)\n",
    "print('False Negative: ', fn)\n",
    "print('True Positive: ', tp)\n",
    "\n",
    "print('Accuracy: ', (tp+tn)/(tp+fp+fn+tn))\n",
    "print('Precision/PPV: ', tp/(tp+fp))\n",
    "print('Sensitivity/Recall: ', tp/(tp+fn))"
   ]
  },
  {
   "cell_type": "code",
   "execution_count": null,
   "metadata": {},
   "outputs": [],
   "source": []
  }
 ],
 "metadata": {
  "kernelspec": {
   "display_name": "Python 3",
   "language": "python",
   "name": "python3"
  },
  "language_info": {
   "codemirror_mode": {
    "name": "ipython",
    "version": 3
   },
   "file_extension": ".py",
   "mimetype": "text/x-python",
   "name": "python",
   "nbconvert_exporter": "python",
   "pygments_lexer": "ipython3",
   "version": "3.8.2"
  }
 },
 "nbformat": 4,
 "nbformat_minor": 4
}
