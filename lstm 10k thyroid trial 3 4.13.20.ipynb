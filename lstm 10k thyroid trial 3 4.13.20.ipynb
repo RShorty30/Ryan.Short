{
 "cells": [
  {
   "cell_type": "code",
   "execution_count": 1,
   "metadata": {},
   "outputs": [],
   "source": [
    "import pandas as pd\n",
    "\n",
    "from sklearn.model_selection import train_test_split\n",
    "\n",
    "#from gensim.models import word2vec\n",
    "\n",
    "from nltk.tokenize import RegexpTokenizer\n",
    "from nltk import word_tokenize\n",
    "\n",
    "#tokenize df.sentence\n",
    "def tokenize(strArr):\n",
    "    tokenizedArr=[]\n",
    "    for curStr in strArr:\n",
    "        tokenizedArr.append(word_tokenize(curStr))\n",
    "    return tokenizedArr\n",
    "\n",
    "#input dataset should be an array of lists of strings\n",
    "#max lenth = 55\n",
    "#take each word in the thyroid sentence and return an integer based on the word2vec model\n",
    "def convertToEmbeddingInts(model, inputDs, maxLen):\n",
    "    mykeys=model.wv.vocab.keys()\n",
    "    indBig=0\n",
    "    for curstr in inputDs:\n",
    "        embedding=np.zeros(len(curstr))\n",
    "        ind=0\n",
    "        for tok in curstr:\n",
    "            if tok in mykeys:\n",
    "                embedding[ind]=list(mykeys).index(tok)+1\n",
    "            else:\n",
    "                embedding[ind]=0\n",
    "            ind=ind+1\n",
    "        if len(embedding)>maxLen:\n",
    "            embedding=embedding[:maxLen]\n",
    "        inputDs[indBig]=embedding\n",
    "        indBig=indBig+1\n",
    "    inputDs=keras.preprocessing.sequence.pad_sequences(inputDs, maxlen=maxLen)\n",
    "    return inputDs\n",
    "\n",
    "#output array of integers of uniform length\n",
    "\n"
   ]
  },
  {
   "cell_type": "code",
   "execution_count": 2,
   "metadata": {},
   "outputs": [
    {
     "data": {
      "text/plain": [
       "0                   the thyroid gland is unremarkable.\n",
       "1    the thyroid gland and esophagus are unremarkable.\n",
       "2    the thyroid gland and esophagus are unremarkable.\n",
       "3                   the thyroid gland is unremarkable.\n",
       "4                   findings: thyroid gland is normal.\n",
       "Name: sentence, dtype: object"
      ]
     },
     "execution_count": 2,
     "metadata": {},
     "output_type": "execute_result"
    }
   ],
   "source": [
    "#keras fast text method\n",
    "df = pd.read_csv('10k_bi.csv')\n",
    "df = df.iloc[:,0:2]\n",
    "df.dropna()\n",
    "text2 = df.sentence.str.replace(\"\\[\", \"\")\n",
    "\n",
    "text3 = text2.str.replace(\"\\]\", \"\")\n",
    "text4 = text3.str.replace(\"'\", \"\")\n",
    "text4.head()"
   ]
  },
  {
   "cell_type": "code",
   "execution_count": 3,
   "metadata": {},
   "outputs": [],
   "source": [
    "import nltk\n",
    "#nltk.download('punkt')"
   ]
  },
  {
   "cell_type": "code",
   "execution_count": 4,
   "metadata": {},
   "outputs": [
    {
     "name": "stdout",
     "output_type": "stream",
     "text": [
      "<class 'list'>\n"
     ]
    }
   ],
   "source": [
    "df.sentence = text4\n",
    "tokenizedarray = tokenize(df.sentence)\n",
    "print(type(tokenizedarray))\n"
   ]
  },
  {
   "cell_type": "code",
   "execution_count": 5,
   "metadata": {},
   "outputs": [
    {
     "data": {
      "text/html": [
       "<div>\n",
       "<style scoped>\n",
       "    .dataframe tbody tr th:only-of-type {\n",
       "        vertical-align: middle;\n",
       "    }\n",
       "\n",
       "    .dataframe tbody tr th {\n",
       "        vertical-align: top;\n",
       "    }\n",
       "\n",
       "    .dataframe thead th {\n",
       "        text-align: right;\n",
       "    }\n",
       "</style>\n",
       "<table border=\"1\" class=\"dataframe\">\n",
       "  <thead>\n",
       "    <tr style=\"text-align: right;\">\n",
       "      <th></th>\n",
       "      <th>0</th>\n",
       "    </tr>\n",
       "  </thead>\n",
       "  <tbody>\n",
       "    <tr>\n",
       "      <th>0</th>\n",
       "      <td>[the, thyroid, gland, is, unremarkable, .]</td>\n",
       "    </tr>\n",
       "    <tr>\n",
       "      <th>1</th>\n",
       "      <td>[the, thyroid, gland, and, esophagus, are, unr...</td>\n",
       "    </tr>\n",
       "    <tr>\n",
       "      <th>2</th>\n",
       "      <td>[the, thyroid, gland, and, esophagus, are, unr...</td>\n",
       "    </tr>\n",
       "    <tr>\n",
       "      <th>3</th>\n",
       "      <td>[the, thyroid, gland, is, unremarkable, .]</td>\n",
       "    </tr>\n",
       "    <tr>\n",
       "      <th>4</th>\n",
       "      <td>[findings, :, thyroid, gland, is, normal, .]</td>\n",
       "    </tr>\n",
       "  </tbody>\n",
       "</table>\n",
       "</div>"
      ],
      "text/plain": [
       "                                                   0\n",
       "0         [the, thyroid, gland, is, unremarkable, .]\n",
       "1  [the, thyroid, gland, and, esophagus, are, unr...\n",
       "2  [the, thyroid, gland, and, esophagus, are, unr...\n",
       "3         [the, thyroid, gland, is, unremarkable, .]\n",
       "4       [findings, :, thyroid, gland, is, normal, .]"
      ]
     },
     "execution_count": 5,
     "metadata": {},
     "output_type": "execute_result"
    }
   ],
   "source": [
    "import numpy as np\n",
    "df2 = pd.DataFrame(np.array(tokenizedarray))\n",
    "df2.head()\n"
   ]
  },
  {
   "cell_type": "code",
   "execution_count": 6,
   "metadata": {},
   "outputs": [
    {
     "data": {
      "text/html": [
       "<div>\n",
       "<style scoped>\n",
       "    .dataframe tbody tr th:only-of-type {\n",
       "        vertical-align: middle;\n",
       "    }\n",
       "\n",
       "    .dataframe tbody tr th {\n",
       "        vertical-align: top;\n",
       "    }\n",
       "\n",
       "    .dataframe thead th {\n",
       "        text-align: right;\n",
       "    }\n",
       "</style>\n",
       "<table border=\"1\" class=\"dataframe\">\n",
       "  <thead>\n",
       "    <tr style=\"text-align: right;\">\n",
       "      <th></th>\n",
       "      <th>toks</th>\n",
       "    </tr>\n",
       "  </thead>\n",
       "  <tbody>\n",
       "    <tr>\n",
       "      <th>0</th>\n",
       "      <td>[the, thyroid, gland, is, unremarkable, .]</td>\n",
       "    </tr>\n",
       "    <tr>\n",
       "      <th>1</th>\n",
       "      <td>[the, thyroid, gland, and, esophagus, are, unr...</td>\n",
       "    </tr>\n",
       "    <tr>\n",
       "      <th>2</th>\n",
       "      <td>[the, thyroid, gland, and, esophagus, are, unr...</td>\n",
       "    </tr>\n",
       "    <tr>\n",
       "      <th>3</th>\n",
       "      <td>[the, thyroid, gland, is, unremarkable, .]</td>\n",
       "    </tr>\n",
       "    <tr>\n",
       "      <th>4</th>\n",
       "      <td>[findings, :, thyroid, gland, is, normal, .]</td>\n",
       "    </tr>\n",
       "  </tbody>\n",
       "</table>\n",
       "</div>"
      ],
      "text/plain": [
       "                                                toks\n",
       "0         [the, thyroid, gland, is, unremarkable, .]\n",
       "1  [the, thyroid, gland, and, esophagus, are, unr...\n",
       "2  [the, thyroid, gland, and, esophagus, are, unr...\n",
       "3         [the, thyroid, gland, is, unremarkable, .]\n",
       "4       [findings, :, thyroid, gland, is, normal, .]"
      ]
     },
     "execution_count": 6,
     "metadata": {},
     "output_type": "execute_result"
    }
   ],
   "source": [
    "df2.columns = ['toks']\n",
    "df2.head()"
   ]
  },
  {
   "cell_type": "code",
   "execution_count": 7,
   "metadata": {},
   "outputs": [
    {
     "data": {
      "text/html": [
       "<div>\n",
       "<style scoped>\n",
       "    .dataframe tbody tr th:only-of-type {\n",
       "        vertical-align: middle;\n",
       "    }\n",
       "\n",
       "    .dataframe tbody tr th {\n",
       "        vertical-align: top;\n",
       "    }\n",
       "\n",
       "    .dataframe thead th {\n",
       "        text-align: right;\n",
       "    }\n",
       "</style>\n",
       "<table border=\"1\" class=\"dataframe\">\n",
       "  <thead>\n",
       "    <tr style=\"text-align: right;\">\n",
       "      <th></th>\n",
       "      <th>sentence</th>\n",
       "      <th>class</th>\n",
       "      <th>toks</th>\n",
       "    </tr>\n",
       "  </thead>\n",
       "  <tbody>\n",
       "    <tr>\n",
       "      <th>0</th>\n",
       "      <td>the thyroid gland is unremarkable.</td>\n",
       "      <td>0</td>\n",
       "      <td>[the, thyroid, gland, is, unremarkable, .]</td>\n",
       "    </tr>\n",
       "    <tr>\n",
       "      <th>1</th>\n",
       "      <td>the thyroid gland and esophagus are unremarkable.</td>\n",
       "      <td>0</td>\n",
       "      <td>[the, thyroid, gland, and, esophagus, are, unr...</td>\n",
       "    </tr>\n",
       "    <tr>\n",
       "      <th>2</th>\n",
       "      <td>the thyroid gland and esophagus are unremarkable.</td>\n",
       "      <td>0</td>\n",
       "      <td>[the, thyroid, gland, and, esophagus, are, unr...</td>\n",
       "    </tr>\n",
       "    <tr>\n",
       "      <th>3</th>\n",
       "      <td>the thyroid gland is unremarkable.</td>\n",
       "      <td>0</td>\n",
       "      <td>[the, thyroid, gland, is, unremarkable, .]</td>\n",
       "    </tr>\n",
       "    <tr>\n",
       "      <th>4</th>\n",
       "      <td>findings: thyroid gland is normal.</td>\n",
       "      <td>0</td>\n",
       "      <td>[findings, :, thyroid, gland, is, normal, .]</td>\n",
       "    </tr>\n",
       "  </tbody>\n",
       "</table>\n",
       "</div>"
      ],
      "text/plain": [
       "                                            sentence  class  \\\n",
       "0                 the thyroid gland is unremarkable.      0   \n",
       "1  the thyroid gland and esophagus are unremarkable.      0   \n",
       "2  the thyroid gland and esophagus are unremarkable.      0   \n",
       "3                 the thyroid gland is unremarkable.      0   \n",
       "4                 findings: thyroid gland is normal.      0   \n",
       "\n",
       "                                                toks  \n",
       "0         [the, thyroid, gland, is, unremarkable, .]  \n",
       "1  [the, thyroid, gland, and, esophagus, are, unr...  \n",
       "2  [the, thyroid, gland, and, esophagus, are, unr...  \n",
       "3         [the, thyroid, gland, is, unremarkable, .]  \n",
       "4       [findings, :, thyroid, gland, is, normal, .]  "
      ]
     },
     "execution_count": 7,
     "metadata": {},
     "output_type": "execute_result"
    }
   ],
   "source": [
    "df3 = pd.concat([df, df2], axis=1)\n",
    "df3.head()"
   ]
  },
  {
   "cell_type": "code",
   "execution_count": 8,
   "metadata": {},
   "outputs": [
    {
     "data": {
      "text/html": [
       "<div>\n",
       "<style scoped>\n",
       "    .dataframe tbody tr th:only-of-type {\n",
       "        vertical-align: middle;\n",
       "    }\n",
       "\n",
       "    .dataframe tbody tr th {\n",
       "        vertical-align: top;\n",
       "    }\n",
       "\n",
       "    .dataframe thead th {\n",
       "        text-align: right;\n",
       "    }\n",
       "</style>\n",
       "<table border=\"1\" class=\"dataframe\">\n",
       "  <thead>\n",
       "    <tr style=\"text-align: right;\">\n",
       "      <th></th>\n",
       "      <th>sentence</th>\n",
       "      <th>class</th>\n",
       "      <th>toks</th>\n",
       "    </tr>\n",
       "  </thead>\n",
       "  <tbody>\n",
       "    <tr>\n",
       "      <th>6573</th>\n",
       "      <td>findings: the partially visualized thyroid is ...</td>\n",
       "      <td>0</td>\n",
       "      <td>[findings, :, the, partially, visualized, thyr...</td>\n",
       "    </tr>\n",
       "    <tr>\n",
       "      <th>6574</th>\n",
       "      <td>findings: the partially visualized thyroid is ...</td>\n",
       "      <td>0</td>\n",
       "      <td>[findings, :, the, partially, visualized, thyr...</td>\n",
       "    </tr>\n",
       "    <tr>\n",
       "      <th>6575</th>\n",
       "      <td>findings: mild asymmetric atrophy of the left ...</td>\n",
       "      <td>0</td>\n",
       "      <td>[findings, :, mild, asymmetric, atrophy, of, t...</td>\n",
       "    </tr>\n",
       "    <tr>\n",
       "      <th>6576</th>\n",
       "      <td>the thyroid is partially visualized and normal...</td>\n",
       "      <td>0</td>\n",
       "      <td>[the, thyroid, is, partially, visualized, and,...</td>\n",
       "    </tr>\n",
       "    <tr>\n",
       "      <th>6577</th>\n",
       "      <td>thyroid is normal.</td>\n",
       "      <td>0</td>\n",
       "      <td>[thyroid, is, normal, .]</td>\n",
       "    </tr>\n",
       "  </tbody>\n",
       "</table>\n",
       "</div>"
      ],
      "text/plain": [
       "                                               sentence  class  \\\n",
       "6573  findings: the partially visualized thyroid is ...      0   \n",
       "6574  findings: the partially visualized thyroid is ...      0   \n",
       "6575  findings: mild asymmetric atrophy of the left ...      0   \n",
       "6576  the thyroid is partially visualized and normal...      0   \n",
       "6577                                 thyroid is normal.      0   \n",
       "\n",
       "                                                   toks  \n",
       "6573  [findings, :, the, partially, visualized, thyr...  \n",
       "6574  [findings, :, the, partially, visualized, thyr...  \n",
       "6575  [findings, :, mild, asymmetric, atrophy, of, t...  \n",
       "6576  [the, thyroid, is, partially, visualized, and,...  \n",
       "6577                           [thyroid, is, normal, .]  "
      ]
     },
     "execution_count": 8,
     "metadata": {},
     "output_type": "execute_result"
    }
   ],
   "source": [
    "df3.tail()"
   ]
  },
  {
   "cell_type": "code",
   "execution_count": 9,
   "metadata": {},
   "outputs": [],
   "source": [
    "from gensim.models import Word2Vec\n",
    "model1 = Word2Vec.load('300dallchestnoncon')"
   ]
  },
  {
   "cell_type": "code",
   "execution_count": 10,
   "metadata": {},
   "outputs": [
    {
     "data": {
      "text/plain": [
       "163"
      ]
     },
     "execution_count": 10,
     "metadata": {},
     "output_type": "execute_result"
    }
   ],
   "source": [
    "long = []\n",
    "for row in df3.toks:\n",
    "    long.append(len(row))\n",
    "np.max(long)"
   ]
  },
  {
   "cell_type": "code",
   "execution_count": 11,
   "metadata": {},
   "outputs": [
    {
     "name": "stderr",
     "output_type": "stream",
     "text": [
      "Using TensorFlow backend.\n",
      "C:\\wustl\\envs\\tf-gpu\\lib\\site-packages\\ipykernel_launcher.py:34: SettingWithCopyWarning: \n",
      "A value is trying to be set on a copy of a slice from a DataFrame\n",
      "\n",
      "See the caveats in the documentation: http://pandas.pydata.org/pandas-docs/stable/user_guide/indexing.html#returning-a-view-versus-a-copy\n"
     ]
    },
    {
     "name": "stdout",
     "output_type": "stream",
     "text": [
      "Wall time: 12 s\n"
     ]
    }
   ],
   "source": [
    "%%time\n",
    "import keras.preprocessing.sequence\n",
    "toks = df3.toks\n",
    "ints = convertToEmbeddingInts(model1, toks, 163)"
   ]
  },
  {
   "cell_type": "code",
   "execution_count": 12,
   "metadata": {},
   "outputs": [
    {
     "name": "stderr",
     "output_type": "stream",
     "text": [
      "C:\\wustl\\envs\\tf-gpu\\lib\\site-packages\\ipykernel_launcher.py:6: DeprecationWarning: Call to deprecated `__getitem__` (Method will be removed in 4.0.0, use self.wv.__getitem__() instead).\n",
      "  \n"
     ]
    }
   ],
   "source": [
    "def makeEmbeddingMatrix(model):\n",
    "    mykeys=model.wv.vocab.keys()\n",
    "    embeddingMatrix=np.zeros((len(mykeys)+1,300))\n",
    "    ind=1 #First entry is all zeros\n",
    "    for key in mykeys:\n",
    "        embeddingMatrix[ind]=model[key]\n",
    "        ind=ind+1\n",
    "    return embeddingMatrix\n",
    "\n",
    "embed = makeEmbeddingMatrix(model1)"
   ]
  },
  {
   "cell_type": "code",
   "execution_count": 13,
   "metadata": {},
   "outputs": [],
   "source": [
    "X_train, X_test, y_train, y_test = train_test_split(ints,\n",
    "                                                    pd.get_dummies(df3['class'], drop_first=False),\n",
    "                                                    test_size=0.2,\n",
    "                                                    stratify= df3['class'],\n",
    "                                                    random_state=42)"
   ]
  },
  {
   "cell_type": "code",
   "execution_count": 14,
   "metadata": {},
   "outputs": [],
   "source": [
    "X_train, X_val, y_train, y_val = train_test_split(X_train,\n",
    "                                                    y_train,\n",
    "                                                    test_size=0.25,\n",
    "                                                    stratify= y_train,\n",
    "                                                    random_state=42)"
   ]
  },
  {
   "cell_type": "code",
   "execution_count": 15,
   "metadata": {},
   "outputs": [],
   "source": [
    "y_train = y_train.values\n",
    "y_test = y_test.values\n",
    "y_val = y_val.values"
   ]
  },
  {
   "cell_type": "code",
   "execution_count": 16,
   "metadata": {},
   "outputs": [
    {
     "name": "stdout",
     "output_type": "stream",
     "text": [
      "Model: \"model_1\"\n",
      "_________________________________________________________________\n",
      "Layer (type)                 Output Shape              Param #   \n",
      "=================================================================\n",
      "stem_input (InputLayer)      (None, 163)               0         \n",
      "_________________________________________________________________\n",
      "embedding_1 (Embedding)      (None, 163, 300)          5157300   \n",
      "_________________________________________________________________\n",
      "lstm_1 (LSTM)                (None, 64)                93440     \n",
      "_________________________________________________________________\n",
      "dense_1 (Dense)              (None, 2)                 130       \n",
      "=================================================================\n",
      "Total params: 5,250,870\n",
      "Trainable params: 93,570\n",
      "Non-trainable params: 5,157,300\n",
      "_________________________________________________________________\n"
     ]
    }
   ],
   "source": [
    "#KERAS MODEL DEFINITION\n",
    "from keras.layers import Dense, Dropout, Embedding\n",
    "from keras.layers import Flatten, Input, SpatialDropout1D, GlobalAveragePooling1D, Conv1D, LSTM\n",
    "from keras.models import Model\n",
    "from keras.optimizers import Adam \n",
    "from keras.regularizers import l1_l2\n",
    "maxlen = 163\n",
    "def get_model():\n",
    "    embed_dim = 300\n",
    "    dropout_rate = 0.5\n",
    "    emb_dropout_rate = 0.5\n",
    "   \n",
    "    input_text = Input(shape=[maxlen], name=\"stem_input\")\n",
    "    \n",
    "    emb = (Embedding(np.shape(embed)[0], np.shape(embed)[1], weights=[embed], trainable=False))(input_text)\n",
    "                                                                \n",
    "    lstm = LSTM(64, activation = 'relu', dropout = 0.2, recurrent_dropout = 0.2, kernel_regularizer = l1_l2(0.0001),\n",
    "                implementation = 1, unroll = False)(emb)\n",
    "    \n",
    "    #pool = GlobalAveragePooling1D()(emb)\n",
    "    \n",
    "    #dense = Dropout(dropout_rate)(Dense(256, activation = 'relu')(pool))\n",
    "    \n",
    "    output = Dense(2, activation=\"softmax\")(lstm)\n",
    "\n",
    "    model = Model([input_text], output)\n",
    "\n",
    "    optimizer = Adam(lr=0.001, beta_1=0.9, beta_2=0.999, epsilon=1e-08, decay=0.0)\n",
    "    model.compile(loss=\"binary_crossentropy\", optimizer=optimizer, metrics=[\"accuracy\"])\n",
    "    return model\n",
    "\n",
    "model = get_model()\n",
    "model.summary()"
   ]
  },
  {
   "cell_type": "code",
   "execution_count": 17,
   "metadata": {},
   "outputs": [
    {
     "name": "stdout",
     "output_type": "stream",
     "text": [
      "Train on 3946 samples, validate on 1316 samples\n",
      "Epoch 1/300\n",
      "3946/3946 [==============================] - 18s 5ms/step - loss: 2.6419 - accuracy: 0.9673 - val_loss: 1.8896 - val_accuracy: 0.9772\n",
      "\n",
      "Epoch 00001: val_loss improved from inf to 1.88965, saving model to C:/Users/Ryan Short/Desktop/lstm10kv3.hdf5\n",
      "Epoch 2/300\n",
      "3946/3946 [==============================] - 19s 5ms/step - loss: 1.4028 - accuracy: 0.9780 - val_loss: 1.0252 - val_accuracy: 0.9795\n",
      "\n",
      "Epoch 00002: val_loss improved from 1.88965 to 1.02520, saving model to C:/Users/Ryan Short/Desktop/lstm10kv3.hdf5\n",
      "Epoch 3/300\n",
      "3946/3946 [==============================] - 20s 5ms/step - loss: 0.8107 - accuracy: 0.9828 - val_loss: 0.6604 - val_accuracy: 0.9840\n",
      "\n",
      "Epoch 00003: val_loss improved from 1.02520 to 0.66044, saving model to C:/Users/Ryan Short/Desktop/lstm10kv3.hdf5\n",
      "Epoch 4/300\n",
      "3946/3946 [==============================] - 20s 5ms/step - loss: 0.7085 - accuracy: 0.9734 - val_loss: 1.0176 - val_accuracy: 0.9597\n",
      "\n",
      "Epoch 00004: val_loss did not improve from 0.66044\n",
      "Epoch 5/300\n",
      "3946/3946 [==============================] - 22s 6ms/step - loss: 0.8782 - accuracy: 0.9653 - val_loss: 0.8409 - val_accuracy: 0.9658\n",
      "\n",
      "Epoch 00005: val_loss did not improve from 0.66044\n",
      "Epoch 6/300\n",
      "3946/3946 [==============================] - 21s 5ms/step - loss: 0.7512 - accuracy: 0.9709 - val_loss: 0.6750 - val_accuracy: 0.9772\n",
      "\n",
      "Epoch 00006: val_loss did not improve from 0.66044\n",
      "Epoch 7/300\n",
      "3946/3946 [==============================] - 21s 5ms/step - loss: 0.7463 - accuracy: 0.9719 - val_loss: 0.7333 - val_accuracy: 0.9749\n",
      "\n",
      "Epoch 00007: val_loss did not improve from 0.66044\n",
      "Epoch 8/300\n",
      "3946/3946 [==============================] - 21s 5ms/step - loss: 0.8137 - accuracy: 0.9742 - val_loss: 0.9324 - val_accuracy: 0.9780\n",
      "\n",
      "Epoch 00008: val_loss did not improve from 0.66044\n",
      "Epoch 9/300\n",
      "3946/3946 [==============================] - 21s 5ms/step - loss: 0.9660 - accuracy: 0.9731 - val_loss: 0.9329 - val_accuracy: 0.9780\n",
      "\n",
      "Epoch 00009: val_loss did not improve from 0.66044\n",
      "Epoch 10/300\n",
      "3946/3946 [==============================] - 21s 5ms/step - loss: 0.9979 - accuracy: 0.9769 - val_loss: 1.0092 - val_accuracy: 0.9772\n",
      "\n",
      "Epoch 00010: val_loss did not improve from 0.66044\n",
      "Epoch 11/300\n",
      "3946/3946 [==============================] - 21s 5ms/step - loss: 1.0587 - accuracy: 0.9747 - val_loss: 1.1341 - val_accuracy: 0.9780\n",
      "\n",
      "Epoch 00011: val_loss did not improve from 0.66044\n",
      "Epoch 12/300\n",
      "3946/3946 [==============================] - 22s 5ms/step - loss: 1.4412 - accuracy: 0.9630 - val_loss: 1.5763 - val_accuracy: 0.9620\n",
      "\n",
      "Epoch 00012: val_loss did not improve from 0.66044\n",
      "Epoch 13/300\n",
      "3946/3946 [==============================] - 22s 6ms/step - loss: 1.6243 - accuracy: 0.9653 - val_loss: 1.6527 - val_accuracy: 0.9650\n",
      "\n",
      "Epoch 00013: val_loss did not improve from 0.66044\n",
      "Wall time: 4min 31s\n"
     ]
    }
   ],
   "source": [
    "%%time\n",
    "from keras.callbacks import ModelCheckpoint, EarlyStopping\n",
    "from keras.models import load_model\n",
    "\n",
    "modelFilePath = 'C:/Users/Ryan Short/Desktop/lstm10kv3.hdf5'\n",
    "checkpoint = ModelCheckpoint(modelFilePath, monitor='val_loss', verbose=1, save_best_only=True, mode='min')\n",
    "\n",
    "\n",
    "epochs = 300\n",
    "hist = model.fit(X_train, y_train,\n",
    "                 batch_size=64,\n",
    "                 validation_data=(X_val, y_val),\n",
    "                 epochs=epochs,\n",
    "                 callbacks=[EarlyStopping(patience=10, monitor='val_loss'), checkpoint])"
   ]
  },
  {
   "cell_type": "code",
   "execution_count": 18,
   "metadata": {},
   "outputs": [],
   "source": [
    "from keras.models import load_model\n",
    "model = load_model(modelFilePath)\n",
    "test_pred = model.predict(X_test, batch_size=64)"
   ]
  },
  {
   "cell_type": "code",
   "execution_count": 19,
   "metadata": {},
   "outputs": [],
   "source": [
    "test_pred2 = test_pred.argmax(1)\n",
    "y_test2 = y_test.argmax(1)"
   ]
  },
  {
   "cell_type": "code",
   "execution_count": 20,
   "metadata": {},
   "outputs": [
    {
     "name": "stdout",
     "output_type": "stream",
     "text": [
      "True Negative:  1272\n",
      "False Positive:  6\n",
      "False Negative:  19\n",
      "True Positive:  19\n",
      "Accuracy:  0.9810030395136778\n",
      "Precision/PPV:  0.76\n",
      "Sensitivity/Recall:  0.5\n"
     ]
    }
   ],
   "source": [
    "from sklearn import metrics\n",
    "tn, fp, fn, tp = metrics.confusion_matrix(y_test2, test_pred2).ravel()\n",
    "print('True Negative: ', tn)\n",
    "print('False Positive: ', fp)\n",
    "print('False Negative: ', fn)\n",
    "print('True Positive: ', tp)\n",
    "\n",
    "print('Accuracy: ', (tp+tn)/(tp+fp+fn+tn))\n",
    "print('Precision/PPV: ', tp/(tp+fp))\n",
    "print('Sensitivity/Recall: ', tp/(tp+fn))"
   ]
  },
  {
   "cell_type": "code",
   "execution_count": 21,
   "metadata": {},
   "outputs": [
    {
     "data": {
      "text/plain": [
       "0.8800140021415039"
      ]
     },
     "execution_count": 21,
     "metadata": {},
     "output_type": "execute_result"
    }
   ],
   "source": [
    "from sklearn.metrics import roc_auc_score\n",
    "roc_auc_score(y_test2, test_pred2, average= 'macro')"
   ]
  },
  {
   "cell_type": "code",
   "execution_count": null,
   "metadata": {},
   "outputs": [],
   "source": []
  }
 ],
 "metadata": {
  "kernelspec": {
   "display_name": "Python 3",
   "language": "python",
   "name": "python3"
  },
  "language_info": {
   "codemirror_mode": {
    "name": "ipython",
    "version": 3
   },
   "file_extension": ".py",
   "mimetype": "text/x-python",
   "name": "python",
   "nbconvert_exporter": "python",
   "pygments_lexer": "ipython3",
   "version": "3.7.6"
  }
 },
 "nbformat": 4,
 "nbformat_minor": 4
}
